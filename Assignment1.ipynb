{
  "nbformat": 4,
  "nbformat_minor": 0,
  "metadata": {
    "colab": {
      "provenance": [],
      "authorship_tag": "ABX9TyNJCrWO9dzhT7/OwqPZcjPy",
      "include_colab_link": true
    },
    "kernelspec": {
      "name": "python3",
      "display_name": "Python 3"
    },
    "language_info": {
      "name": "python"
    },
    "gpuClass": "standard"
  },
  "cells": [
    {
      "cell_type": "markdown",
      "metadata": {
        "id": "view-in-github",
        "colab_type": "text"
      },
      "source": [
        "<a href=\"https://colab.research.google.com/github/Cali0707/Cali0707/blob/main/Assignment1.ipynb\" target=\"_parent\"><img src=\"https://colab.research.google.com/assets/colab-badge.svg\" alt=\"Open In Colab\"/></a>"
      ]
    },
    {
      "cell_type": "code",
      "execution_count": null,
      "metadata": {
        "id": "ITO0UWOxMhw7"
      },
      "outputs": [],
      "source": [
        "import numpy as np\n",
        "from sklearn.datasets import load_breast_cancer"
      ]
    },
    {
      "cell_type": "code",
      "source": [
        "breast_cancer_data, _ = load_breast_cancer(return_X_y=True)"
      ],
      "metadata": {
        "id": "oLW3Tp5eP0Z_"
      },
      "execution_count": null,
      "outputs": []
    },
    {
      "cell_type": "code",
      "source": [
        "print(type(breast_cancer_data))\n",
        "print(breast_cancer_data[28])"
      ],
      "metadata": {
        "colab": {
          "base_uri": "https://localhost:8080/"
        },
        "id": "02nSsVYxQZHU",
        "outputId": "788f3b0a-db6f-4907-8851-dde9ae0048b8"
      },
      "execution_count": null,
      "outputs": [
        {
          "output_type": "stream",
          "name": "stdout",
          "text": [
            "<class 'numpy.ndarray'>\n",
            "[1.530e+01 2.527e+01 1.024e+02 7.324e+02 1.082e-01 1.697e-01 1.683e-01\n",
            " 8.751e-02 1.926e-01 6.540e-02 4.390e-01 1.012e+00 3.498e+00 4.350e+01\n",
            " 5.233e-03 3.057e-02 3.576e-02 1.083e-02 1.768e-02 2.967e-03 2.027e+01\n",
            " 3.671e+01 1.493e+02 1.269e+03 1.641e-01 6.110e-01 6.335e-01 2.024e-01\n",
            " 4.027e-01 9.876e-02]\n"
          ]
        }
      ]
    },
    {
      "cell_type": "code",
      "source": [
        "def euclidean_distance(a, b):\n",
        "  return np.sqrt(np.sum(np.square(b - a)))"
      ],
      "metadata": {
        "id": "RqEZeVdETusD"
      },
      "execution_count": null,
      "outputs": []
    },
    {
      "cell_type": "code",
      "source": [
        "def assign_to_cluster(data, centers):\n",
        "  cluster_vector = np.empty(len(data), np.int32)\n",
        "  for i, d in enumerate(data):\n",
        "    cluster_vector[i] = np.argmin([euclidean_distance(d, c) for c in centers])\n",
        "  return cluster_vector"
      ],
      "metadata": {
        "id": "spNgSMHEZhlc"
      },
      "execution_count": null,
      "outputs": []
    },
    {
      "cell_type": "code",
      "source": [
        "def compute_centers(data, clusters, centers):\n",
        "  new_centers = np.empty(centers.shape)\n",
        "  for i in range(len(centers)):\n",
        "    points_in_cluster = data[clusters == i]\n",
        "    new_centers[i] = np.sum(points_in_cluster, axis=0) / len(points_in_cluster)\n",
        "  return new_centers\n"
      ],
      "metadata": {
        "id": "-54t6UU7bKy1"
      },
      "execution_count": null,
      "outputs": []
    },
    {
      "cell_type": "code",
      "source": [
        "def k_means(k, data):\n",
        "  # initialize the centers for the clustering\n",
        "  initial_indices = np.random.choice(len(data), k)\n",
        "  centers = np.array([data[i] for i in initial_indices])\n",
        "  cluster_vector = np.empty(len(data), np.int32)\n",
        "  converged = False\n",
        "  while not converged:\n",
        "    cluster_vector = assign_to_cluster(data, centers)\n",
        "    new_centers = compute_centers(data, cluster_vector, centers)\n",
        "    if np.array_equal(centers, new_centers):\n",
        "      converged = True\n",
        "    else:\n",
        "      centers = new_centers\n",
        "  return centers, cluster_vector\n",
        "  \n",
        "\n",
        "\n",
        "  \n",
        "\n"
      ],
      "metadata": {
        "id": "5mNPGo2LMlJE"
      },
      "execution_count": null,
      "outputs": []
    },
    {
      "cell_type": "code",
      "source": [
        "print(k_means(3, breast_cancer_data))"
      ],
      "metadata": {
        "colab": {
          "base_uri": "https://localhost:8080/"
        },
        "id": "upVptXoYRBmD",
        "outputId": "d34de34f-3d5c-4992-eb1c-8645ab5dba6c"
      },
      "execution_count": null,
      "outputs": [
        {
          "output_type": "stream",
          "name": "stdout",
          "text": [
            "(array([[1.57728767e+01, 2.02658904e+01, 1.03394932e+02, 7.77008219e+02,\n",
            "        9.83806164e-02, 1.22199726e-01, 1.16893219e-01, 6.54834247e-02,\n",
            "        1.85023973e-01, 6.15401370e-02, 4.37980822e-01, 1.13751918e+00,\n",
            "        3.13706164e+00, 4.37661644e+01, 6.46978767e-03, 2.80585274e-02,\n",
            "        3.53224589e-02, 1.36327534e-02, 1.92495616e-02, 3.73510137e-03,\n",
            "        1.83675342e+01, 2.72639041e+01, 1.22038356e+02, 1.04382808e+03,\n",
            "        1.36550411e-01, 3.09622192e-01, 3.55073493e-01, 1.49328356e-01,\n",
            "        3.04092466e-01, 8.55910274e-02],\n",
            "       [1.18489941e+01, 1.82178171e+01, 7.62153982e+01, 4.37929499e+02,\n",
            "        9.40707375e-02, 8.35280531e-02, 5.00592351e-02, 2.64680059e-02,\n",
            "        1.76574041e-01, 6.38992625e-02, 2.84058407e-01, 1.25818584e+00,\n",
            "        1.99955959e+00, 2.06703776e+01, 7.39989381e-03, 2.23519351e-02,\n",
            "        2.70911670e-02, 9.94036578e-03, 2.10612153e-02, 3.78399853e-03,\n",
            "        1.31019145e+01, 2.41214454e+01, 8.52732448e+01, 5.33368437e+02,\n",
            "        1.28394012e-01, 1.98797552e-01, 1.83426304e-01, 7.70377611e-02,\n",
            "        2.77745428e-01, 8.24492625e-02],\n",
            "       [2.04616667e+01, 2.19184524e+01, 1.35686905e+02, 1.31822143e+03,\n",
            "        1.02088690e-01, 1.57295833e-01, 1.96313333e-01, 1.10735238e-01,\n",
            "        1.92964286e-01, 6.05372619e-02, 8.36927381e-01, 1.18793810e+00,\n",
            "        5.89197619e+00, 1.13746190e+02, 6.58528571e-03, 3.36096429e-02,\n",
            "        4.53159524e-02, 1.60932857e-02, 2.06950000e-02, 3.94285714e-03,\n",
            "        2.54042857e+01, 2.91980952e+01, 1.70314286e+02, 1.99810714e+03,\n",
            "        1.41140476e-01, 3.81900000e-01, 4.86345238e-01, 2.05871429e-01,\n",
            "        3.15473810e-01, 8.71259524e-02]]), array([2, 2, 2, 1, 2, 1, 2, 0, 1, 1, 0, 0, 0, 0, 1, 0, 0, 0, 2, 1, 1, 1,\n",
            "       0, 2, 2, 0, 0, 0, 0, 0, 2, 1, 0, 2, 0, 0, 0, 1, 1, 1, 1, 1, 2, 0,\n",
            "       1, 2, 1, 1, 1, 1, 1, 1, 1, 0, 0, 1, 2, 0, 1, 1, 1, 1, 0, 1, 0, 0,\n",
            "       1, 1, 1, 1, 2, 1, 2, 0, 1, 0, 1, 2, 2, 1, 1, 1, 2, 0, 1, 2, 0, 2,\n",
            "       1, 0, 0, 0, 0, 1, 0, 2, 1, 1, 1, 0, 0, 1, 1, 1, 1, 1, 1, 1, 2, 1,\n",
            "       1, 1, 1, 1, 1, 1, 1, 0, 0, 0, 1, 2, 2, 1, 1, 1, 0, 2, 0, 2, 1, 0,\n",
            "       0, 0, 2, 1, 1, 1, 0, 1, 1, 0, 1, 1, 1, 1, 1, 0, 0, 1, 1, 1, 1, 1,\n",
            "       1, 1, 0, 0, 1, 1, 1, 2, 2, 1, 2, 0, 1, 0, 2, 0, 1, 0, 0, 1, 1, 1,\n",
            "       1, 0, 1, 1, 2, 2, 0, 1, 0, 1, 0, 1, 1, 1, 1, 1, 1, 1, 0, 1, 0, 0,\n",
            "       2, 0, 1, 0, 2, 0, 1, 0, 1, 0, 1, 0, 2, 1, 2, 0, 0, 1, 1, 1, 2, 2,\n",
            "       1, 1, 1, 0, 1, 0, 1, 0, 1, 1, 0, 1, 1, 2, 1, 1, 2, 2, 1, 0, 1, 1,\n",
            "       1, 1, 0, 1, 1, 1, 1, 1, 2, 1, 2, 0, 2, 0, 2, 0, 0, 0, 2, 0, 0, 0,\n",
            "       0, 2, 1, 1, 1, 1, 1, 1, 2, 1, 0, 1, 1, 0, 1, 1, 2, 1, 2, 0, 1, 1,\n",
            "       1, 1, 1, 1, 0, 0, 1, 1, 1, 1, 1, 1, 0, 1, 2, 1, 2, 1, 1, 1, 1, 1,\n",
            "       1, 1, 1, 0, 1, 1, 1, 1, 1, 0, 1, 1, 1, 2, 1, 2, 1, 1, 1, 1, 0, 0,\n",
            "       0, 1, 1, 1, 1, 0, 1, 2, 1, 2, 0, 1, 1, 2, 1, 1, 1, 0, 1, 1, 1, 0,\n",
            "       2, 0, 1, 1, 1, 1, 1, 1, 1, 1, 1, 0, 1, 2, 2, 1, 2, 2, 0, 0, 2, 2,\n",
            "       1, 0, 1, 1, 1, 1, 1, 1, 1, 1, 1, 0, 1, 1, 1, 0, 1, 1, 0, 2, 1, 1,\n",
            "       1, 1, 1, 1, 0, 1, 1, 1, 1, 1, 0, 1, 0, 1, 1, 1, 1, 0, 0, 1, 1, 2,\n",
            "       1, 1, 1, 0, 1, 1, 1, 1, 1, 1, 1, 1, 0, 1, 2, 2, 0, 0, 1, 1, 1, 1,\n",
            "       1, 0, 1, 1, 0, 1, 0, 0, 0, 2, 1, 0, 1, 1, 1, 1, 1, 1, 1, 1, 2, 2,\n",
            "       1, 1, 1, 1, 1, 1, 0, 1, 1, 1, 0, 1, 1, 1, 0, 1, 1, 0, 1, 0, 1, 1,\n",
            "       0, 1, 0, 2, 1, 0, 1, 0, 0, 1, 1, 0, 1, 1, 2, 2, 0, 1, 1, 2, 1, 1,\n",
            "       1, 1, 0, 0, 1, 0, 0, 0, 0, 1, 0, 2, 1, 1, 1, 2, 1, 1, 1, 1, 1, 1,\n",
            "       1, 1, 1, 1, 1, 2, 1, 2, 1, 1, 1, 1, 1, 0, 0, 1, 1, 1, 1, 1, 1, 1,\n",
            "       1, 1, 1, 1, 1, 1, 1, 1, 1, 1, 1, 1, 0, 2, 2, 2, 0, 2, 1],\n",
            "      dtype=int32))\n"
          ]
        }
      ]
    }
  ]
}